{
 "cells": [
  {
   "cell_type": "code",
   "execution_count": 8,
   "id": "bf8aa6f4-a26f-48f6-a9ad-f6eb2d607bf2",
   "metadata": {},
   "outputs": [],
   "source": [
    "from datetime import datetime\n",
    "from pathlib import Path\n",
    "\n",
    "import pandas as pd\n",
    "from tpot import TPOTRegressor\n",
    "from sklearn.preprocessing import OneHotEncoder\n",
    "from sklearn.metrics import mean_squared_error, make_scorer\n",
    "import numpy as np"
   ]
  },
  {
   "cell_type": "code",
   "execution_count": 2,
   "id": "1a75b822-c491-4081-bf98-f81c74c8d06c",
   "metadata": {},
   "outputs": [],
   "source": [
    "def load_ds(train_path='../data/train.csv', test_path='../data/test.csv'):\n",
    "    train_df = pd.read_csv(train_path)\n",
    "    test_df = pd.read_csv(test_path)\n",
    "    all_df = pd.concat([train_df, test_df])\n",
    "    all_df = _preprocess_data(all_df)\n",
    "    n_train = len(train_df)\n",
    "    train_df = all_df.iloc[:n_train]\n",
    "    test_df = all_df.iloc[n_train:]\n",
    "    X_train, y_train = train_df.drop(['SalePrice', 'Id'], axis=1), train_df['SalePrice']\n",
    "    X_test = test_df.drop('SalePrice', axis=1)\n",
    "    return X_train, y_train, X_test\n",
    "\n",
    "    \n",
    "\n",
    "def _preprocess_data(df):\n",
    "    df = _fill_missing_values(df)\n",
    "    df = _categorical_values2one_hot(df)\n",
    "    return df\n",
    "\n",
    "\n",
    "def _fill_missing_values(df: pd.DataFrame):\n",
    "    df = df.copy()\n",
    "    for col in df.columns:\n",
    "        if df[col].dtype == 'O':\n",
    "            # カテゴリー変数の場合は、プールが無いなどの意味が多いのでNoneとしている。\n",
    "            df[col] = df[col].fillna('None')\n",
    "        else:\n",
    "            df[col] = df[col].fillna(0)\n",
    "    return df\n",
    "\n",
    "\n",
    "def _categorical_values2one_hot(df: pd.DataFrame):\n",
    "    return pd.get_dummies(df)"
   ]
  },
  {
   "cell_type": "code",
   "execution_count": 3,
   "id": "3fc45de4-72ca-4c02-b571-4e6ea4e21638",
   "metadata": {},
   "outputs": [
    {
     "name": "stdout",
     "output_type": "stream",
     "text": [
      "X_train shape: (1460, 310) y_train shape: (1460,)\n",
      "X_test shape: (1459, 311)\n"
     ]
    }
   ],
   "source": [
    "X_train, y_train, X_test = load_ds()\n",
    "print('X_train shape:', X_train.shape, 'y_train shape:', y_train.shape)\n",
    "print('X_test shape:', X_test.shape)"
   ]
  },
  {
   "cell_type": "markdown",
   "id": "bdcc3b67-8258-444d-bb50-ca5e087356d7",
   "metadata": {
    "tags": []
   },
   "source": [
    "## TOPTRegressorを使用して学習\n",
    "\n",
    "- 回数は、以下のようになる。\n",
    "\n",
    "population_size(パイプライン数) + generations(世代数) x offspringsize(子孫数.デフォルトでは、population_sizeと同じ)\n",
    "\n",
    "- 評価指標は、「予測値」と「実際の値」の対数に対してrmse(Root Mean Squared Error)を計算したものを使用\n",
    "\n",
    "- 簡単のため、「generations」, 「population_size」は小さめの値(それぞれ10, 50)を使用(デフォルトだと10,000ステップ以上となり学習がなかなか終わらない。)\n",
    "\n",
    " - 上記の設定で0.124程度のスコアが出る(submit結果では、0.124程度)。\n",
    " \n",
    " - デフォルトの設定(generations: 100, population_size: 100)では、0.1159程度のスコアが出る(submit結果では、0.126程度なので単にgenerationsやpopulation_sizeを上げればいいというわけではない。)"
   ]
  },
  {
   "cell_type": "code",
   "execution_count": 5,
   "id": "112a7456-bd8d-4690-a60f-01ee92bdb610",
   "metadata": {},
   "outputs": [],
   "source": [
    "def log_rmse(y_true, y_pred):\n",
    "    return np.sqrt(mean_squared_error(y_true=np.log(y_true), y_pred=np.log(y_pred)))\n",
    "\n",
    "\n",
    "def learn_tpot(x_train, y_train, seed=42, generations=10, population_size=50):\n",
    "    tpot = TPOTRegressor(\n",
    "        random_state=seed,\n",
    "        n_jobs=-1,\n",
    "        verbosity=2,\n",
    "        generations=generations,\n",
    "        population_size=population_size,\n",
    "        scoring=make_scorer(log_rmse, greater_is_better=False)\n",
    "    )\n",
    "    tpot.fit(X_train, y_train)\n",
    "    return tpot"
   ]
  },
  {
   "cell_type": "markdown",
   "id": "1ba340d8-04c5-40ad-93ca-3f67c0945bb9",
   "metadata": {},
   "source": [
    "ちなみに、単純に平均値を予測結果とした場合のRMSEは、0.407程度"
   ]
  },
  {
   "cell_type": "code",
   "execution_count": 7,
   "id": "69406a87-b834-4df1-9362-b8cce1cfb198",
   "metadata": {},
   "outputs": [
    {
     "data": {
      "text/plain": [
       "0.40760050769850525"
      ]
     },
     "execution_count": 7,
     "metadata": {},
     "output_type": "execute_result"
    }
   ],
   "source": [
    "log_rmse(y_train, [y_train.mean()] * len(y_train))"
   ]
  },
  {
   "cell_type": "code",
   "execution_count": 10,
   "id": "c9e423b5-4481-46bc-bdcf-150602d33a0e",
   "metadata": {},
   "outputs": [
    {
     "data": {
      "application/vnd.jupyter.widget-view+json": {
       "model_id": "",
       "version_major": 2,
       "version_minor": 0
      },
      "text/plain": [
       "Optimization Progress:   0%|          | 0/2 [00:00<?, ?pipeline/s]"
      ]
     },
     "metadata": {},
     "output_type": "display_data"
    },
    {
     "name": "stderr",
     "output_type": "stream",
     "text": [
      "/opt/conda/lib/python3.9/site-packages/tpot/builtins/__init__.py:36: UserWarning: Warning: optional dependency `torch` is not available. - skipping import of NN models.\n",
      "  warnings.warn(\"Warning: optional dependency `torch` is not available. - skipping import of NN models.\")\n",
      "/opt/conda/lib/python3.9/site-packages/tpot/builtins/__init__.py:36: UserWarning: Warning: optional dependency `torch` is not available. - skipping import of NN models.\n",
      "  warnings.warn(\"Warning: optional dependency `torch` is not available. - skipping import of NN models.\")\n"
     ]
    },
    {
     "name": "stdout",
     "output_type": "stream",
     "text": [
      "\n",
      "Generation 1 - Current best internal CV score: -0.1554847844572039\n",
      "\n",
      "Best pipeline: RandomForestRegressor(input_matrix, bootstrap=True, max_features=0.7500000000000001, min_samples_leaf=11, min_samples_split=9, n_estimators=100)\n"
     ]
    }
   ],
   "source": [
    "SEED = 42\n",
    "# 世代数\n",
    "GENERATIONS = 10\n",
    "# パイプライン数\n",
    "POPULATION_SIZE = 50\n",
    "date_format = '%Y_%m_%d_%H_%M'\n",
    "experiment_date = datetime.now().strftime(date_format)\n",
    "DST_ROOT = Path(f'../submit/{experiment_date}/')\n",
    "DST_ROOT.mkdir(exist_ok=True, parents=True)\n",
    "tpot = learn_tpot(x_train=X_train, y_train=y_train, seed=SEED, generations=GENERATIONS, population_size=POPULATION_SIZE)\n",
    "tpot.export(str(DST_ROOT / 'tpot_pipeline.py'))\n",
    "\n",
    "y_pred = tpot.predict(X_test.drop('Id', axis=1))\n",
    "submit_df = pd.DataFrame(\n",
    "    {\n",
    "        'Id': X_test['Id'],\n",
    "        'SalePrice': y_pred\n",
    "    }\n",
    ")\n",
    "dst = str(DST_ROOT / 'submit.csv')\n",
    "submit_df.to_csv(\n",
    "    dst,\n",
    "    index=False\n",
    ")"
   ]
  },
  {
   "cell_type": "code",
   "execution_count": null,
   "id": "f37fc6ed-538e-4f9a-87ea-53343a28e399",
   "metadata": {},
   "outputs": [],
   "source": []
  }
 ],
 "metadata": {
  "kernelspec": {
   "display_name": "Python 3 (ipykernel)",
   "language": "python",
   "name": "python3"
  },
  "language_info": {
   "codemirror_mode": {
    "name": "ipython",
    "version": 3
   },
   "file_extension": ".py",
   "mimetype": "text/x-python",
   "name": "python",
   "nbconvert_exporter": "python",
   "pygments_lexer": "ipython3",
   "version": "3.9.6"
  }
 },
 "nbformat": 4,
 "nbformat_minor": 5
}
